{
 "cells": [
  {
   "cell_type": "code",
   "execution_count": 1,
   "metadata": {
    "collapsed": true
   },
   "outputs": [],
   "source": [
    "import pandas as pd\n",
    "import os\n",
    "from rdflib import Graph"
   ]
  },
  {
   "cell_type": "code",
   "execution_count": 3,
   "metadata": {
    "collapsed": false
   },
   "outputs": [],
   "source": [
    "g = Graph()"
   ]
  },
  {
   "cell_type": "code",
   "execution_count": 4,
   "metadata": {
    "collapsed": false
   },
   "outputs": [
    {
     "data": {
      "text/plain": [
       "<Graph identifier=N114748e348594cfcaa36895593c0aa10 (<class 'rdflib.graph.Graph'>)>"
      ]
     },
     "execution_count": 4,
     "metadata": {},
     "output_type": "execute_result"
    }
   ],
   "source": [
    "g"
   ]
  },
  {
   "cell_type": "code",
   "execution_count": 5,
   "metadata": {
    "collapsed": false
   },
   "outputs": [
    {
     "data": {
      "text/plain": [
       "<Graph identifier=N114748e348594cfcaa36895593c0aa10 (<class 'rdflib.graph.Graph'>)>"
      ]
     },
     "execution_count": 5,
     "metadata": {},
     "output_type": "execute_result"
    }
   ],
   "source": [
    "g.parse('jwo_instance_rdf.rdf')"
   ]
  },
  {
   "cell_type": "code",
   "execution_count": 7,
   "metadata": {
    "collapsed": true
   },
   "outputs": [],
   "source": [
    "from rdflib import RDF\n",
    "from rdflib import URIRef, Literal\n",
    "from rdflib import Namespace"
   ]
  },
  {
   "cell_type": "markdown",
   "metadata": {
    "collapsed": false
   },
   "source": [
    "# subjectとobjectのデータのみ取得\n",
    "for s, o in g.subject_objects(RDF.type):\n",
    "    print(s,o)"
   ]
  },
  {
   "cell_type": "code",
   "execution_count": 21,
   "metadata": {
    "collapsed": false,
    "scrolled": true
   },
   "outputs": [
    {
     "name": "stdout",
     "output_type": "stream",
     "text": [
      "http://www.wikipediaontology.org/instance/MEMS http://www.w3.org/2000/01/rdf-schema#label MEMS\n",
      "http://www.wikipediaontology.org/instance/MEMS http://www.w3.org/2000/01/rdf-schema#comment MEMS (メムス、Micro Electro Mechanical Systems)は、機械要素部品、センサ、アクチュエータ、電子回路を一つのシリコン基板、ガラス基板、有機材料などの上に集積化したデバイスを指す。プロセス上の制約や材料の違いなどにより、機械構造と電子回路が別なチップになる場合があるが、このようなハイブリッドの場合もMEMSという。主要部分は半導体集積回路作製技術にて作るが、立体形状や可動構造を形成するための犠牲層エッチングプロセスをも含む。本来、MEMSはセンサなどのデバイスを目的として研究開発が進められていたが、近年はMEMSにしか許されない環境下での実験手段として注目されている。例えば、電子顕微鏡の中は高真空で微小な空間だが、MEMSならばその小ささと機械的性質を利用して電子顕微鏡下での実験を行うことができる。また、DNAや生体資料などのナノ･マイクロメートルの物質を操作･捕獲･分析するツールとしても活躍している。現在、製品として市販されている物としては、インクジェットプリンタのヘッド、圧力センサ、加速度センサ、ジャイロスコープ、プロジェクタ･写真焼付機等に利用されるDMDなどがある。市場規模が拡大して応用分野も多岐にわたる期待は大きく、第二のDRAMと言われたこともある。\n",
      "http://www.wikipediaontology.org/instance/MEMS http://www.w3.org/1999/02/22-rdf-syntax-ns#type http://www.wikipediaontology.org/class/エレクトロニクス用語\n",
      "http://www.wikipediaontology.org/instance/MEMS http://xmlns.com/foaf/0.1/isPrimaryTopicOf http://ja.wikipedia.org/wiki/MEMS\n",
      "http://www.wikipediaontology.org/instance/MEMS http://www.w3.org/2002/07/owl#sameAs http://ja.dbpedia.org/resource/MEMS\n"
     ]
    }
   ],
   "source": [
    "for s, p, o in g.triples((URIRef('http://www.wikipediaontology.org/instance/MEMS'), None, None)):\n",
    "    print(s, p, o)"
   ]
  },
  {
   "cell_type": "code",
   "execution_count": 74,
   "metadata": {
    "collapsed": false
   },
   "outputs": [
    {
     "name": "stdout",
     "output_type": "stream",
     "text": [
      "http://www.wikipediaontology.org/instance/太宰治 http://www.w3.org/1999/02/22-rdf-syntax-ns#type http://www.wikipediaontology.org/class/知ってるつもり?!の放送\n",
      "http://www.wikipediaontology.org/instance/太宰治 http://www.w3.org/1999/02/22-rdf-syntax-ns#type http://www.wikipediaontology.org/class/時代小説･歴史小説作家\n",
      "http://www.wikipediaontology.org/instance/太宰治 http://www.w3.org/2000/01/rdf-schema#comment 太宰 治 (だざい おさむ、1909年 (明治42年)6月19日 - 1948年 (昭和23年)6月13日)とは、日本の小説家。1936年 (昭和11年)に最初の作品集『晩年』を刊行した。1948年 (昭和23年)に山崎富栄と共に玉川上水で入水自殺を完遂させた。主な作品に『走れメロス』『津軽』『お伽草紙』『斜陽』『人間失格』。その作風から坂口安吾、織田作之助、石川淳らとともに新戯作派、無頼派と称された。\n",
      "http://www.wikipediaontology.org/instance/太宰治 http://www.w3.org/2002/07/owl#sameAs http://ja.dbpedia.org/resource/太宰治\n",
      "http://www.wikipediaontology.org/instance/太宰治 http://www.w3.org/1999/02/22-rdf-syntax-ns#type http://www.wikipediaontology.org/class/芥川賞の受賞者\n",
      "http://www.wikipediaontology.org/instance/太宰治 http://www.w3.org/2002/07/owl#sameAs http://www.aozora.gr.jp/index_pages/person974.html\n",
      "http://www.wikipediaontology.org/instance/太宰治 http://www.w3.org/1999/02/22-rdf-syntax-ns#type http://www.wikipediaontology.org/class/弘前大学の人物_(旧制弘前高等学校出身者)\n",
      "http://www.wikipediaontology.org/instance/太宰治 http://www.w3.org/2000/01/rdf-schema#label 太宰治\n",
      "http://www.wikipediaontology.org/instance/太宰治 http://xmlns.com/foaf/0.1/isPrimaryTopicOf http://ja.wikipedia.org/wiki/太宰治\n",
      "http://www.wikipediaontology.org/instance/太宰治 http://www.w3.org/1999/02/22-rdf-syntax-ns#type http://www.wikipediaontology.org/class/千葉県出身の人物\n",
      "http://www.wikipediaontology.org/instance/太宰治 http://www.w3.org/1999/02/22-rdf-syntax-ns#type http://www.wikipediaontology.org/class/小説家\n",
      "http://www.wikipediaontology.org/instance/太宰治 http://www.w3.org/1999/02/22-rdf-syntax-ns#type http://www.wikipediaontology.org/class/山梨県出身の人物\n",
      "http://www.wikipediaontology.org/instance/太宰治 http://www.w3.org/1999/02/22-rdf-syntax-ns#type http://www.wikipediaontology.org/class/埼玉県出身の人物\n",
      "http://www.wikipediaontology.org/instance/太宰治 http://www.w3.org/1999/02/22-rdf-syntax-ns#type http://www.wikipediaontology.org/class/青森県出身の人物\n",
      "http://www.wikipediaontology.org/instance/太宰治 http://www.w3.org/2002/07/owl#sameAs http://lod.ac/id/16437\n"
     ]
    }
   ],
   "source": [
    "for s, p, o in g.triples((URIRef('http://www.wikipediaontology.org/instance/太宰治'), None, None)):\n",
    "    print(s, p, o)"
   ]
  },
  {
   "cell_type": "code",
   "execution_count": 60,
   "metadata": {
    "collapsed": false
   },
   "outputs": [
    {
     "name": "stdout",
     "output_type": "stream",
     "text": [
      "http://www.wikipediaontology.org/class/『ファイナルファンタジー』\n"
     ]
    }
   ],
   "source": [
    "JWO = Namespace(\"http://www.wikipediaontology.org/vocabulary#\")\n",
    "\n",
    "for o in g.objects(subject=URIRef('http://www.wikipediaontology.org/instance/ファイナルファンタジー'), predicate=JWO.hyper):\n",
    "    print(o)"
   ]
  },
  {
   "cell_type": "code",
   "execution_count": 11,
   "metadata": {
    "collapsed": false
   },
   "outputs": [
    {
     "name": "stdout",
     "output_type": "stream",
     "text": [
      "http://www.wikipediaontology.org/instance/あきる野市 http://www.w3.org/2000/01/rdf-schema#label あきる野市\n"
     ]
    }
   ],
   "source": [
    "for s, p, o in g.triples((None,  None, Literal(\"あきる野市\"))):\n",
    "    print(s, p, o)"
   ]
  },
  {
   "cell_type": "code",
   "execution_count": 82,
   "metadata": {
    "collapsed": false
   },
   "outputs": [
    {
     "name": "stdout",
     "output_type": "stream",
     "text": [
      "http://www.w3.org/2002/07/owl#sameAs http://ja.dbpedia.org/resource/五日市線\n",
      "http://xmlns.com/foaf/0.1/isPrimaryTopicOf http://ja.wikipedia.org/wiki/五日市線\n",
      "http://www.w3.org/1999/02/22-rdf-syntax-ns#type http://www.wikipediaontology.org/class/廃止鉄道路線\n",
      "http://www.w3.org/2000/01/rdf-schema#label 五日市線\n",
      "http://www.w3.org/1999/02/22-rdf-syntax-ns#type http://www.wikipediaontology.org/class/国鉄･JR線路名称_(中央線の部)\n",
      "http://www.w3.org/1999/02/22-rdf-syntax-ns#type http://www.wikipediaontology.org/class/日本国有鉄道が提出した鉄道路線の区分_(幹線系線区)\n",
      "http://www.w3.org/2000/01/rdf-schema#comment 五日市線 (いつかいちせん)は、東京都昭島市の拝島駅から東京都あきる野市の武蔵五日市駅までを結ぶ東日本旅客鉄道 (JR東日本)の鉄道路線 (幹線)である。\n"
     ]
    }
   ],
   "source": [
    "JWO = Namespace(\"http://www.wikipediaontology.org/vocabulary#\")\n",
    "\n",
    "for p,o in g.predicate_objects(subject=URIRef('http://www.wikipediaontology.org/instance/五日市線')):\n",
    "    print(p,o)"
   ]
  },
  {
   "cell_type": "code",
   "execution_count": 84,
   "metadata": {
    "collapsed": false,
    "scrolled": true
   },
   "outputs": [
    {
     "name": "stdout",
     "output_type": "stream",
     "text": [
      "http://www.wikipediaontology.org/instance/陸羽東線 http://www.wikipediaontology.org/class/国鉄･JR線路名称_(陸羽線の部)\n",
      "http://www.wikipediaontology.org/instance/陸羽西線 http://www.wikipediaontology.org/class/国鉄･JR線路名称_(陸羽線の部)\n"
     ]
    }
   ],
   "source": [
    "JWO = Namespace(\"http://www.wikipediaontology.org/vocabulary#\")\n",
    "\n",
    "for s, p, o in g.triples((None,None, URIRef('http://www.wikipediaontology.org/class/国鉄･JR線路名称_(陸羽線の部)'))):\n",
    "    print(s, o)\n",
    "\n"
   ]
  },
  {
   "cell_type": "code",
   "execution_count": 61,
   "metadata": {
    "collapsed": false
   },
   "outputs": [],
   "source": [
    "JWO = Namespace(\"http://www.wikipediaontology.org/vocabulary#\")\n",
    "\n",
    "for o in g.objects(subject=URIRef('http://www.wikipediaontology.org/instance/ドラゴンクエスト'), predicate=JWO.hyper):\n",
    "    print(o)"
   ]
  },
  {
   "cell_type": "code",
   "execution_count": null,
   "metadata": {
    "collapsed": true
   },
   "outputs": [],
   "source": []
  }
 ],
 "metadata": {
  "kernelspec": {
   "display_name": "Python 3",
   "language": "python",
   "name": "python3"
  },
  "language_info": {
   "codemirror_mode": {
    "name": "ipython",
    "version": 3
   },
   "file_extension": ".py",
   "mimetype": "text/x-python",
   "name": "python",
   "nbconvert_exporter": "python",
   "pygments_lexer": "ipython3",
   "version": "3.5.4"
  }
 },
 "nbformat": 4,
 "nbformat_minor": 0
}
